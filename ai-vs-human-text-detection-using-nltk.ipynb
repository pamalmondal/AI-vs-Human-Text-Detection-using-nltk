{
 "cells": [
  {
   "cell_type": "code",
   "execution_count": 1,
   "id": "8cf6c9e8",
   "metadata": {
    "_cell_guid": "b1076dfc-b9ad-4769-8c92-a6c4dae69d19",
    "_uuid": "8f2839f25d086af736a60e9eeb907d3b93b6e0e5",
    "execution": {
     "iopub.execute_input": "2024-10-13T19:59:40.028665Z",
     "iopub.status.busy": "2024-10-13T19:59:40.028272Z",
     "iopub.status.idle": "2024-10-13T19:59:40.802312Z",
     "shell.execute_reply": "2024-10-13T19:59:40.801433Z"
    },
    "papermill": {
     "duration": 0.783464,
     "end_time": "2024-10-13T19:59:40.804589",
     "exception": false,
     "start_time": "2024-10-13T19:59:40.021125",
     "status": "completed"
    },
    "tags": []
   },
   "outputs": [
    {
     "name": "stdout",
     "output_type": "stream",
     "text": [
      "/kaggle/input/ai-vs-human-text/AI_Human.csv\n"
     ]
    }
   ],
   "source": [
    "# This Python 3 environment comes with many helpful analytics libraries installed\n",
    "# It is defined by the kaggle/python Docker image: https://github.com/kaggle/docker-python\n",
    "# For example, here's several helpful packages to load\n",
    "\n",
    "import numpy as np # linear algebra\n",
    "import pandas as pd # data processing, CSV file I/O (e.g. pd.read_csv)\n",
    "\n",
    "# Input data files are available in the read-only \"../input/\" directory\n",
    "# For example, running this (by clicking run or pressing Shift+Enter) will list all files under the input directory\n",
    "\n",
    "import os\n",
    "for dirname, _, filenames in os.walk('/kaggle/input'):\n",
    "    for filename in filenames:\n",
    "        print(os.path.join(dirname, filename))\n",
    "\n",
    "# You can write up to 20GB to the current directory (/kaggle/working/) that gets preserved as output when you create a version using \"Save & Run All\" \n",
    "# You can also write temporary files to /kaggle/temp/, but they won't be saved outside of the current session"
   ]
  },
  {
   "cell_type": "code",
   "execution_count": 2,
   "id": "2061e1a2",
   "metadata": {
    "execution": {
     "iopub.execute_input": "2024-10-13T19:59:40.816318Z",
     "iopub.status.busy": "2024-10-13T19:59:40.815933Z",
     "iopub.status.idle": "2024-10-13T19:59:42.427561Z",
     "shell.execute_reply": "2024-10-13T19:59:42.426754Z"
    },
    "papermill": {
     "duration": 1.619971,
     "end_time": "2024-10-13T19:59:42.429962",
     "exception": false,
     "start_time": "2024-10-13T19:59:40.809991",
     "status": "completed"
    },
    "tags": []
   },
   "outputs": [],
   "source": [
    "from sklearn.feature_extraction.text import TfidfVectorizer\n",
    "from sklearn.model_selection import train_test_split\n",
    "from sklearn.naive_bayes import MultinomialNB\n",
    "from sklearn.metrics import accuracy_score, classification_report\n",
    "import nltk\n",
    "from nltk.corpus import stopwords\n",
    "import string"
   ]
  },
  {
   "cell_type": "code",
   "execution_count": 3,
   "id": "63ccb281",
   "metadata": {
    "execution": {
     "iopub.execute_input": "2024-10-13T19:59:42.441728Z",
     "iopub.status.busy": "2024-10-13T19:59:42.441314Z",
     "iopub.status.idle": "2024-10-13T19:59:42.566582Z",
     "shell.execute_reply": "2024-10-13T19:59:42.565397Z"
    },
    "papermill": {
     "duration": 0.133367,
     "end_time": "2024-10-13T19:59:42.568717",
     "exception": false,
     "start_time": "2024-10-13T19:59:42.435350",
     "status": "completed"
    },
    "tags": []
   },
   "outputs": [
    {
     "name": "stdout",
     "output_type": "stream",
     "text": [
      "[nltk_data] Downloading package stopwords to /usr/share/nltk_data...\n",
      "[nltk_data]   Package stopwords is already up-to-date!\n"
     ]
    }
   ],
   "source": [
    "nltk.download('stopwords')\n",
    "stop_words = set(stopwords.words('english'))"
   ]
  },
  {
   "cell_type": "code",
   "execution_count": 4,
   "id": "a8924e42",
   "metadata": {
    "execution": {
     "iopub.execute_input": "2024-10-13T19:59:42.581829Z",
     "iopub.status.busy": "2024-10-13T19:59:42.581508Z",
     "iopub.status.idle": "2024-10-13T20:00:05.919236Z",
     "shell.execute_reply": "2024-10-13T20:00:05.918210Z"
    },
    "papermill": {
     "duration": 23.348083,
     "end_time": "2024-10-13T20:00:05.922434",
     "exception": false,
     "start_time": "2024-10-13T19:59:42.574351",
     "status": "completed"
    },
    "tags": []
   },
   "outputs": [],
   "source": [
    "df = pd.read_csv('/kaggle/input/ai-vs-human-text/AI_Human.csv')"
   ]
  },
  {
   "cell_type": "code",
   "execution_count": 5,
   "id": "b81e077c",
   "metadata": {
    "execution": {
     "iopub.execute_input": "2024-10-13T20:00:05.938768Z",
     "iopub.status.busy": "2024-10-13T20:00:05.938427Z",
     "iopub.status.idle": "2024-10-13T20:00:05.956506Z",
     "shell.execute_reply": "2024-10-13T20:00:05.955563Z"
    },
    "papermill": {
     "duration": 0.028614,
     "end_time": "2024-10-13T20:00:05.958788",
     "exception": false,
     "start_time": "2024-10-13T20:00:05.930174",
     "status": "completed"
    },
    "tags": []
   },
   "outputs": [
    {
     "data": {
      "text/html": [
       "<div>\n",
       "<style scoped>\n",
       "    .dataframe tbody tr th:only-of-type {\n",
       "        vertical-align: middle;\n",
       "    }\n",
       "\n",
       "    .dataframe tbody tr th {\n",
       "        vertical-align: top;\n",
       "    }\n",
       "\n",
       "    .dataframe thead th {\n",
       "        text-align: right;\n",
       "    }\n",
       "</style>\n",
       "<table border=\"1\" class=\"dataframe\">\n",
       "  <thead>\n",
       "    <tr style=\"text-align: right;\">\n",
       "      <th></th>\n",
       "      <th>text</th>\n",
       "      <th>generated</th>\n",
       "    </tr>\n",
       "  </thead>\n",
       "  <tbody>\n",
       "    <tr>\n",
       "      <th>0</th>\n",
       "      <td>Cars. Cars have been around since they became ...</td>\n",
       "      <td>0.0</td>\n",
       "    </tr>\n",
       "    <tr>\n",
       "      <th>1</th>\n",
       "      <td>Transportation is a large necessity in most co...</td>\n",
       "      <td>0.0</td>\n",
       "    </tr>\n",
       "    <tr>\n",
       "      <th>2</th>\n",
       "      <td>\"America's love affair with it's vehicles seem...</td>\n",
       "      <td>0.0</td>\n",
       "    </tr>\n",
       "    <tr>\n",
       "      <th>3</th>\n",
       "      <td>How often do you ride in a car? Do you drive a...</td>\n",
       "      <td>0.0</td>\n",
       "    </tr>\n",
       "    <tr>\n",
       "      <th>4</th>\n",
       "      <td>Cars are a wonderful thing. They are perhaps o...</td>\n",
       "      <td>0.0</td>\n",
       "    </tr>\n",
       "  </tbody>\n",
       "</table>\n",
       "</div>"
      ],
      "text/plain": [
       "                                                text  generated\n",
       "0  Cars. Cars have been around since they became ...        0.0\n",
       "1  Transportation is a large necessity in most co...        0.0\n",
       "2  \"America's love affair with it's vehicles seem...        0.0\n",
       "3  How often do you ride in a car? Do you drive a...        0.0\n",
       "4  Cars are a wonderful thing. They are perhaps o...        0.0"
      ]
     },
     "execution_count": 5,
     "metadata": {},
     "output_type": "execute_result"
    }
   ],
   "source": [
    "df.head()"
   ]
  },
  {
   "cell_type": "code",
   "execution_count": 6,
   "id": "c6e30cd7",
   "metadata": {
    "execution": {
     "iopub.execute_input": "2024-10-13T20:00:05.971404Z",
     "iopub.status.busy": "2024-10-13T20:00:05.971031Z",
     "iopub.status.idle": "2024-10-13T20:00:05.977072Z",
     "shell.execute_reply": "2024-10-13T20:00:05.976126Z"
    },
    "papermill": {
     "duration": 0.014991,
     "end_time": "2024-10-13T20:00:05.979376",
     "exception": false,
     "start_time": "2024-10-13T20:00:05.964385",
     "status": "completed"
    },
    "tags": []
   },
   "outputs": [],
   "source": [
    "def preprocess_text(text):\n",
    "    # Convert to lowercase\n",
    "    text = text.lower()\n",
    "    # Remove punctuation\n",
    "    text = text.translate(str.maketrans('', '', string.punctuation))\n",
    "    # Remove stopwords\n",
    "    text = ' '.join([word for word in text.split() if word not in stop_words])\n",
    "    return text"
   ]
  },
  {
   "cell_type": "code",
   "execution_count": 7,
   "id": "e0d0172c",
   "metadata": {
    "execution": {
     "iopub.execute_input": "2024-10-13T20:00:05.994301Z",
     "iopub.status.busy": "2024-10-13T20:00:05.994000Z",
     "iopub.status.idle": "2024-10-13T20:01:18.260853Z",
     "shell.execute_reply": "2024-10-13T20:01:18.259978Z"
    },
    "papermill": {
     "duration": 72.276604,
     "end_time": "2024-10-13T20:01:18.263406",
     "exception": false,
     "start_time": "2024-10-13T20:00:05.986802",
     "status": "completed"
    },
    "tags": []
   },
   "outputs": [],
   "source": [
    "df['text'] = df['text'].apply(preprocess_text)"
   ]
  },
  {
   "cell_type": "code",
   "execution_count": 8,
   "id": "975f2952",
   "metadata": {
    "execution": {
     "iopub.execute_input": "2024-10-13T20:01:18.275853Z",
     "iopub.status.busy": "2024-10-13T20:01:18.275504Z",
     "iopub.status.idle": "2024-10-13T20:01:18.279801Z",
     "shell.execute_reply": "2024-10-13T20:01:18.278980Z"
    },
    "papermill": {
     "duration": 0.012694,
     "end_time": "2024-10-13T20:01:18.281803",
     "exception": false,
     "start_time": "2024-10-13T20:01:18.269109",
     "status": "completed"
    },
    "tags": []
   },
   "outputs": [],
   "source": [
    "X = df['text']\n",
    "y = df['generated']"
   ]
  },
  {
   "cell_type": "code",
   "execution_count": 9,
   "id": "6f34317b",
   "metadata": {
    "execution": {
     "iopub.execute_input": "2024-10-13T20:01:18.293692Z",
     "iopub.status.busy": "2024-10-13T20:01:18.293398Z",
     "iopub.status.idle": "2024-10-13T20:03:05.302648Z",
     "shell.execute_reply": "2024-10-13T20:03:05.301750Z"
    },
    "papermill": {
     "duration": 107.01791,
     "end_time": "2024-10-13T20:03:05.305052",
     "exception": false,
     "start_time": "2024-10-13T20:01:18.287142",
     "status": "completed"
    },
    "tags": []
   },
   "outputs": [],
   "source": [
    "vectorizer = TfidfVectorizer()\n",
    "X_tfidf = vectorizer.fit_transform(X)"
   ]
  },
  {
   "cell_type": "code",
   "execution_count": 10,
   "id": "acac80db",
   "metadata": {
    "execution": {
     "iopub.execute_input": "2024-10-13T20:03:05.317505Z",
     "iopub.status.busy": "2024-10-13T20:03:05.317179Z",
     "iopub.status.idle": "2024-10-13T20:03:05.637091Z",
     "shell.execute_reply": "2024-10-13T20:03:05.636057Z"
    },
    "papermill": {
     "duration": 0.328936,
     "end_time": "2024-10-13T20:03:05.639747",
     "exception": false,
     "start_time": "2024-10-13T20:03:05.310811",
     "status": "completed"
    },
    "tags": []
   },
   "outputs": [],
   "source": [
    "X_train, X_test, y_train, y_test = train_test_split(X_tfidf, y, test_size=0.3, random_state=42)"
   ]
  },
  {
   "cell_type": "code",
   "execution_count": 11,
   "id": "b4f86e35",
   "metadata": {
    "execution": {
     "iopub.execute_input": "2024-10-13T20:03:05.652342Z",
     "iopub.status.busy": "2024-10-13T20:03:05.651990Z",
     "iopub.status.idle": "2024-10-13T20:03:06.021004Z",
     "shell.execute_reply": "2024-10-13T20:03:06.020010Z"
    },
    "papermill": {
     "duration": 0.377348,
     "end_time": "2024-10-13T20:03:06.023039",
     "exception": false,
     "start_time": "2024-10-13T20:03:05.645691",
     "status": "completed"
    },
    "tags": []
   },
   "outputs": [
    {
     "data": {
      "text/html": [
       "<style>#sk-container-id-1 {color: black;background-color: white;}#sk-container-id-1 pre{padding: 0;}#sk-container-id-1 div.sk-toggleable {background-color: white;}#sk-container-id-1 label.sk-toggleable__label {cursor: pointer;display: block;width: 100%;margin-bottom: 0;padding: 0.3em;box-sizing: border-box;text-align: center;}#sk-container-id-1 label.sk-toggleable__label-arrow:before {content: \"▸\";float: left;margin-right: 0.25em;color: #696969;}#sk-container-id-1 label.sk-toggleable__label-arrow:hover:before {color: black;}#sk-container-id-1 div.sk-estimator:hover label.sk-toggleable__label-arrow:before {color: black;}#sk-container-id-1 div.sk-toggleable__content {max-height: 0;max-width: 0;overflow: hidden;text-align: left;background-color: #f0f8ff;}#sk-container-id-1 div.sk-toggleable__content pre {margin: 0.2em;color: black;border-radius: 0.25em;background-color: #f0f8ff;}#sk-container-id-1 input.sk-toggleable__control:checked~div.sk-toggleable__content {max-height: 200px;max-width: 100%;overflow: auto;}#sk-container-id-1 input.sk-toggleable__control:checked~label.sk-toggleable__label-arrow:before {content: \"▾\";}#sk-container-id-1 div.sk-estimator input.sk-toggleable__control:checked~label.sk-toggleable__label {background-color: #d4ebff;}#sk-container-id-1 div.sk-label input.sk-toggleable__control:checked~label.sk-toggleable__label {background-color: #d4ebff;}#sk-container-id-1 input.sk-hidden--visually {border: 0;clip: rect(1px 1px 1px 1px);clip: rect(1px, 1px, 1px, 1px);height: 1px;margin: -1px;overflow: hidden;padding: 0;position: absolute;width: 1px;}#sk-container-id-1 div.sk-estimator {font-family: monospace;background-color: #f0f8ff;border: 1px dotted black;border-radius: 0.25em;box-sizing: border-box;margin-bottom: 0.5em;}#sk-container-id-1 div.sk-estimator:hover {background-color: #d4ebff;}#sk-container-id-1 div.sk-parallel-item::after {content: \"\";width: 100%;border-bottom: 1px solid gray;flex-grow: 1;}#sk-container-id-1 div.sk-label:hover label.sk-toggleable__label {background-color: #d4ebff;}#sk-container-id-1 div.sk-serial::before {content: \"\";position: absolute;border-left: 1px solid gray;box-sizing: border-box;top: 0;bottom: 0;left: 50%;z-index: 0;}#sk-container-id-1 div.sk-serial {display: flex;flex-direction: column;align-items: center;background-color: white;padding-right: 0.2em;padding-left: 0.2em;position: relative;}#sk-container-id-1 div.sk-item {position: relative;z-index: 1;}#sk-container-id-1 div.sk-parallel {display: flex;align-items: stretch;justify-content: center;background-color: white;position: relative;}#sk-container-id-1 div.sk-item::before, #sk-container-id-1 div.sk-parallel-item::before {content: \"\";position: absolute;border-left: 1px solid gray;box-sizing: border-box;top: 0;bottom: 0;left: 50%;z-index: -1;}#sk-container-id-1 div.sk-parallel-item {display: flex;flex-direction: column;z-index: 1;position: relative;background-color: white;}#sk-container-id-1 div.sk-parallel-item:first-child::after {align-self: flex-end;width: 50%;}#sk-container-id-1 div.sk-parallel-item:last-child::after {align-self: flex-start;width: 50%;}#sk-container-id-1 div.sk-parallel-item:only-child::after {width: 0;}#sk-container-id-1 div.sk-dashed-wrapped {border: 1px dashed gray;margin: 0 0.4em 0.5em 0.4em;box-sizing: border-box;padding-bottom: 0.4em;background-color: white;}#sk-container-id-1 div.sk-label label {font-family: monospace;font-weight: bold;display: inline-block;line-height: 1.2em;}#sk-container-id-1 div.sk-label-container {text-align: center;}#sk-container-id-1 div.sk-container {/* jupyter's `normalize.less` sets `[hidden] { display: none; }` but bootstrap.min.css set `[hidden] { display: none !important; }` so we also need the `!important` here to be able to override the default hidden behavior on the sphinx rendered scikit-learn.org. See: https://github.com/scikit-learn/scikit-learn/issues/21755 */display: inline-block !important;position: relative;}#sk-container-id-1 div.sk-text-repr-fallback {display: none;}</style><div id=\"sk-container-id-1\" class=\"sk-top-container\"><div class=\"sk-text-repr-fallback\"><pre>MultinomialNB()</pre><b>In a Jupyter environment, please rerun this cell to show the HTML representation or trust the notebook. <br />On GitHub, the HTML representation is unable to render, please try loading this page with nbviewer.org.</b></div><div class=\"sk-container\" hidden><div class=\"sk-item\"><div class=\"sk-estimator sk-toggleable\"><input class=\"sk-toggleable__control sk-hidden--visually\" id=\"sk-estimator-id-1\" type=\"checkbox\" checked><label for=\"sk-estimator-id-1\" class=\"sk-toggleable__label sk-toggleable__label-arrow\">MultinomialNB</label><div class=\"sk-toggleable__content\"><pre>MultinomialNB()</pre></div></div></div></div></div>"
      ],
      "text/plain": [
       "MultinomialNB()"
      ]
     },
     "execution_count": 11,
     "metadata": {},
     "output_type": "execute_result"
    }
   ],
   "source": [
    "model = MultinomialNB()\n",
    "model.fit(X_train, y_train)"
   ]
  },
  {
   "cell_type": "code",
   "execution_count": 12,
   "id": "bcc7b45a",
   "metadata": {
    "execution": {
     "iopub.execute_input": "2024-10-13T20:03:06.035741Z",
     "iopub.status.busy": "2024-10-13T20:03:06.035401Z",
     "iopub.status.idle": "2024-10-13T20:03:06.153236Z",
     "shell.execute_reply": "2024-10-13T20:03:06.152450Z"
    },
    "papermill": {
     "duration": 0.126707,
     "end_time": "2024-10-13T20:03:06.155356",
     "exception": false,
     "start_time": "2024-10-13T20:03:06.028649",
     "status": "completed"
    },
    "tags": []
   },
   "outputs": [],
   "source": [
    "y_pred = model.predict(X_test)"
   ]
  },
  {
   "cell_type": "code",
   "execution_count": 13,
   "id": "6946ee82",
   "metadata": {
    "execution": {
     "iopub.execute_input": "2024-10-13T20:03:06.167895Z",
     "iopub.status.busy": "2024-10-13T20:03:06.167582Z",
     "iopub.status.idle": "2024-10-13T20:03:06.326500Z",
     "shell.execute_reply": "2024-10-13T20:03:06.325581Z"
    },
    "papermill": {
     "duration": 0.167573,
     "end_time": "2024-10-13T20:03:06.328668",
     "exception": false,
     "start_time": "2024-10-13T20:03:06.161095",
     "status": "completed"
    },
    "tags": []
   },
   "outputs": [
    {
     "name": "stdout",
     "output_type": "stream",
     "text": [
      "Accuracy: 0.9522955989902238\n",
      "Classification Report:\n",
      "              precision    recall  f1-score   support\n",
      "\n",
      "         0.0       0.94      0.99      0.96     91597\n",
      "         1.0       0.98      0.89      0.93     54574\n",
      "\n",
      "    accuracy                           0.95    146171\n",
      "   macro avg       0.96      0.94      0.95    146171\n",
      "weighted avg       0.95      0.95      0.95    146171\n",
      "\n"
     ]
    }
   ],
   "source": [
    "print(f'Accuracy: {accuracy_score(y_test, y_pred)}')\n",
    "print('Classification Report:')\n",
    "print(classification_report(y_test, y_pred))"
   ]
  },
  {
   "cell_type": "code",
   "execution_count": 14,
   "id": "05da6b0c",
   "metadata": {
    "execution": {
     "iopub.execute_input": "2024-10-13T20:03:06.341720Z",
     "iopub.status.busy": "2024-10-13T20:03:06.341398Z",
     "iopub.status.idle": "2024-10-13T20:03:06.346599Z",
     "shell.execute_reply": "2024-10-13T20:03:06.345788Z"
    },
    "papermill": {
     "duration": 0.013755,
     "end_time": "2024-10-13T20:03:06.348453",
     "exception": false,
     "start_time": "2024-10-13T20:03:06.334698",
     "status": "completed"
    },
    "tags": []
   },
   "outputs": [],
   "source": [
    "def predict_text_category(input_text):\n",
    "    processed_text = preprocess_text(input_text)\n",
    "    transformed_text = vectorizer.transform([processed_text])\n",
    "    prediction = model.predict(transformed_text)\n",
    "    if prediction[0] == 1:\n",
    "        return 'AI-generated'\n",
    "    else:\n",
    "        return 'Human-written'"
   ]
  },
  {
   "cell_type": "markdown",
   "id": "83dd27b3",
   "metadata": {
    "execution": {
     "iopub.execute_input": "2024-10-04T14:57:10.693219Z",
     "iopub.status.busy": "2024-10-04T14:57:10.692735Z",
     "iopub.status.idle": "2024-10-04T14:57:10.701353Z",
     "shell.execute_reply": "2024-10-04T14:57:10.699746Z",
     "shell.execute_reply.started": "2024-10-04T14:57:10.693176Z"
    },
    "papermill": {
     "duration": 0.005325,
     "end_time": "2024-10-13T20:03:06.359445",
     "exception": false,
     "start_time": "2024-10-13T20:03:06.354120",
     "status": "completed"
    },
    "tags": []
   },
   "source": [
    "def predict_text_category(input_text):\n",
    "    processed_text = preprocess_text(input_text)\n",
    "    transformed_text = vectorizer.transform([processed_text])\n",
    "    prediction = model.predict(transformed_text)\n",
    "    \n",
    "    if prediction[0] == 0:\n",
    "        return 'Human-written'\n",
    "    elif prediction[0] == 1:\n",
    "        return 'AI-generated (Model: GPT)'\n",
    "    elif prediction[0] == 2:\n",
    "        return 'AI-generated (Model: BERT)'\n",
    "    # Add more elif cases for other models if needed\n",
    "    else:\n",
    "        return 'AI-generated (Model: Unknown)'"
   ]
  },
  {
   "cell_type": "code",
   "execution_count": 15,
   "id": "5a88edaa",
   "metadata": {
    "execution": {
     "iopub.execute_input": "2024-10-13T20:03:06.372186Z",
     "iopub.status.busy": "2024-10-13T20:03:06.371415Z",
     "iopub.status.idle": "2024-10-13T20:03:07.013875Z",
     "shell.execute_reply": "2024-10-13T20:03:07.012627Z"
    },
    "papermill": {
     "duration": 0.650529,
     "end_time": "2024-10-13T20:03:07.015518",
     "exception": true,
     "start_time": "2024-10-13T20:03:06.364989",
     "status": "failed"
    },
    "tags": []
   },
   "outputs": [
    {
     "ename": "StdinNotImplementedError",
     "evalue": "raw_input was called, but this frontend does not support input requests.",
     "output_type": "error",
     "traceback": [
      "\u001b[0;31m---------------------------------------------------------------------------\u001b[0m",
      "\u001b[0;31mStdinNotImplementedError\u001b[0m                  Traceback (most recent call last)",
      "Cell \u001b[0;32mIn[15], line 1\u001b[0m\n\u001b[0;32m----> 1\u001b[0m input_text \u001b[38;5;241m=\u001b[39m \u001b[38;5;28;43minput\u001b[39;49m\u001b[43m(\u001b[49m\u001b[38;5;124;43m\"\u001b[39;49m\u001b[38;5;124;43mEnter a text: \u001b[39;49m\u001b[38;5;124;43m\"\u001b[39;49m\u001b[43m)\u001b[49m\n\u001b[1;32m      2\u001b[0m result \u001b[38;5;241m=\u001b[39m predict_text_category(input_text)\n\u001b[1;32m      3\u001b[0m \u001b[38;5;28mprint\u001b[39m(\u001b[38;5;124mf\u001b[39m\u001b[38;5;124m'\u001b[39m\u001b[38;5;124mThe text is likely \u001b[39m\u001b[38;5;132;01m{\u001b[39;00mresult\u001b[38;5;132;01m}\u001b[39;00m\u001b[38;5;124m.\u001b[39m\u001b[38;5;124m'\u001b[39m)\n",
      "File \u001b[0;32m/opt/conda/lib/python3.10/site-packages/ipykernel/kernelbase.py:1281\u001b[0m, in \u001b[0;36mKernel.raw_input\u001b[0;34m(self, prompt)\u001b[0m\n\u001b[1;32m   1279\u001b[0m \u001b[38;5;28;01mif\u001b[39;00m \u001b[38;5;129;01mnot\u001b[39;00m \u001b[38;5;28mself\u001b[39m\u001b[38;5;241m.\u001b[39m_allow_stdin:\n\u001b[1;32m   1280\u001b[0m     msg \u001b[38;5;241m=\u001b[39m \u001b[38;5;124m\"\u001b[39m\u001b[38;5;124mraw_input was called, but this frontend does not support input requests.\u001b[39m\u001b[38;5;124m\"\u001b[39m\n\u001b[0;32m-> 1281\u001b[0m     \u001b[38;5;28;01mraise\u001b[39;00m StdinNotImplementedError(msg)\n\u001b[1;32m   1282\u001b[0m \u001b[38;5;28;01mreturn\u001b[39;00m \u001b[38;5;28mself\u001b[39m\u001b[38;5;241m.\u001b[39m_input_request(\n\u001b[1;32m   1283\u001b[0m     \u001b[38;5;28mstr\u001b[39m(prompt),\n\u001b[1;32m   1284\u001b[0m     \u001b[38;5;28mself\u001b[39m\u001b[38;5;241m.\u001b[39m_parent_ident[\u001b[38;5;124m\"\u001b[39m\u001b[38;5;124mshell\u001b[39m\u001b[38;5;124m\"\u001b[39m],\n\u001b[1;32m   1285\u001b[0m     \u001b[38;5;28mself\u001b[39m\u001b[38;5;241m.\u001b[39mget_parent(\u001b[38;5;124m\"\u001b[39m\u001b[38;5;124mshell\u001b[39m\u001b[38;5;124m\"\u001b[39m),\n\u001b[1;32m   1286\u001b[0m     password\u001b[38;5;241m=\u001b[39m\u001b[38;5;28;01mFalse\u001b[39;00m,\n\u001b[1;32m   1287\u001b[0m )\n",
      "\u001b[0;31mStdinNotImplementedError\u001b[0m: raw_input was called, but this frontend does not support input requests."
     ]
    }
   ],
   "source": [
    "input_text = input(\"Enter a text: \")\n",
    "result = predict_text_category(input_text)\n",
    "print(f'The text is likely {result}.')"
   ]
  },
  {
   "cell_type": "code",
   "execution_count": null,
   "id": "653e4308",
   "metadata": {
    "papermill": {
     "duration": null,
     "end_time": null,
     "exception": null,
     "start_time": null,
     "status": "pending"
    },
    "tags": []
   },
   "outputs": [],
   "source": []
  }
 ],
 "metadata": {
  "kaggle": {
   "accelerator": "gpu",
   "dataSources": [
    {
     "datasetId": 4288635,
     "sourceId": 7379779,
     "sourceType": "datasetVersion"
    }
   ],
   "dockerImageVersionId": 30786,
   "isGpuEnabled": true,
   "isInternetEnabled": true,
   "language": "python",
   "sourceType": "notebook"
  },
  "kernelspec": {
   "display_name": "Python 3",
   "language": "python",
   "name": "python3"
  },
  "language_info": {
   "codemirror_mode": {
    "name": "ipython",
    "version": 3
   },
   "file_extension": ".py",
   "mimetype": "text/x-python",
   "name": "python",
   "nbconvert_exporter": "python",
   "pygments_lexer": "ipython3",
   "version": "3.10.14"
  },
  "papermill": {
   "default_parameters": {},
   "duration": 210.684334,
   "end_time": "2024-10-13T20:03:07.941450",
   "environment_variables": {},
   "exception": true,
   "input_path": "__notebook__.ipynb",
   "output_path": "__notebook__.ipynb",
   "parameters": {},
   "start_time": "2024-10-13T19:59:37.257116",
   "version": "2.6.0"
  }
 },
 "nbformat": 4,
 "nbformat_minor": 5
}
